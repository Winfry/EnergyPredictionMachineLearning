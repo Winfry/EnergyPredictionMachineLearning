{
 "cells": [
  {
   "cell_type": "markdown",
   "id": "fa05cdad",
   "metadata": {},
   "source": [
    "# ENERGY CONSUMPTION PREDICTION\n",
    "\n",
    "The Project is the prediction of the Power Consuption of the whole country depending on the county.The consumption determines the prices, The most users and To determine the Profits of the Company. In this project, I used Machine Learning Algorithms to determine the future and gowth of the energy sector."
   ]
  },
  {
   "cell_type": "code",
   "execution_count": 69,
   "id": "5871df71",
   "metadata": {},
   "outputs": [],
   "source": [
    "#importing necessary libraries\n",
    "\n",
    "import pandas as pd\n",
    "import numpy as np\n",
    "import seaborn as sns\n",
    "import matplotlib as plt\n",
    "import matplotlib.pyplot as plt\n",
    "import matplotlib.pylab as plt\n",
    "import panel as pn\n",
    "plt.style.use('ggplot')\n",
    "import os\n",
    "import tarfile\n",
    "from six.moves import urllib\n",
    "pn.extension('tabulator')\n",
    "import lightgbm as lgbm\n",
    "\n",
    "import hvplot.pandas\n",
    "\n",
    "%matplotlib inline"
   ]
  },
  {
   "cell_type": "code",
   "execution_count": 2,
   "id": "2494fd66",
   "metadata": {},
   "outputs": [
    {
     "data": {
      "text/html": [
       "<div>\n",
       "<style scoped>\n",
       "    .dataframe tbody tr th:only-of-type {\n",
       "        vertical-align: middle;\n",
       "    }\n",
       "\n",
       "    .dataframe tbody tr th {\n",
       "        vertical-align: top;\n",
       "    }\n",
       "\n",
       "    .dataframe thead th {\n",
       "        text-align: right;\n",
       "    }\n",
       "</style>\n",
       "<table border=\"1\" class=\"dataframe\">\n",
       "  <thead>\n",
       "    <tr style=\"text-align: right;\">\n",
       "      <th></th>\n",
       "      <th>PERIOD</th>\n",
       "      <th>REGION</th>\n",
       "      <th>COUNTY</th>\n",
       "      <th>ACC</th>\n",
       "      <th>MTR</th>\n",
       "      <th>COD_TARIFF</th>\n",
       "      <th>INSTALLATION_DATE</th>\n",
       "      <th>UNITS</th>\n",
       "    </tr>\n",
       "  </thead>\n",
       "  <tbody>\n",
       "    <tr>\n",
       "      <th>0</th>\n",
       "      <td>202102</td>\n",
       "      <td>COAST</td>\n",
       "      <td>MOMBASA</td>\n",
       "      <td>86579721</td>\n",
       "      <td>57100062272</td>\n",
       "      <td>A0-1 DC-L</td>\n",
       "      <td>2020-12-04</td>\n",
       "      <td>0.0</td>\n",
       "    </tr>\n",
       "    <tr>\n",
       "      <th>1</th>\n",
       "      <td>201801</td>\n",
       "      <td>NAIROBI WEST</td>\n",
       "      <td>NAIROBI WEST</td>\n",
       "      <td>86579721</td>\n",
       "      <td>57100062272</td>\n",
       "      <td>A0-1</td>\n",
       "      <td>2020-12-04</td>\n",
       "      <td>54.0</td>\n",
       "    </tr>\n",
       "    <tr>\n",
       "      <th>2</th>\n",
       "      <td>201802</td>\n",
       "      <td>NAIROBI WEST</td>\n",
       "      <td>NAIROBI WEST</td>\n",
       "      <td>86579721</td>\n",
       "      <td>57100062272</td>\n",
       "      <td>A0-1</td>\n",
       "      <td>2020-12-04</td>\n",
       "      <td>100.0</td>\n",
       "    </tr>\n",
       "    <tr>\n",
       "      <th>3</th>\n",
       "      <td>201803</td>\n",
       "      <td>NAIROBI WEST</td>\n",
       "      <td>NAIROBI WEST</td>\n",
       "      <td>86579721</td>\n",
       "      <td>57100062272</td>\n",
       "      <td>A0-1</td>\n",
       "      <td>2020-12-04</td>\n",
       "      <td>0.0</td>\n",
       "    </tr>\n",
       "    <tr>\n",
       "      <th>4</th>\n",
       "      <td>201804</td>\n",
       "      <td>NAIROBI WEST</td>\n",
       "      <td>NAIROBI WEST</td>\n",
       "      <td>86579721</td>\n",
       "      <td>57100062272</td>\n",
       "      <td>A0-1</td>\n",
       "      <td>2020-12-04</td>\n",
       "      <td>76.0</td>\n",
       "    </tr>\n",
       "    <tr>\n",
       "      <th>...</th>\n",
       "      <td>...</td>\n",
       "      <td>...</td>\n",
       "      <td>...</td>\n",
       "      <td>...</td>\n",
       "      <td>...</td>\n",
       "      <td>...</td>\n",
       "      <td>...</td>\n",
       "      <td>...</td>\n",
       "    </tr>\n",
       "    <tr>\n",
       "      <th>201403</th>\n",
       "      <td>202010</td>\n",
       "      <td>COAST</td>\n",
       "      <td>MOMBASA</td>\n",
       "      <td>89713749</td>\n",
       "      <td>57300035847</td>\n",
       "      <td>A1-1 SC1</td>\n",
       "      <td>2022-09-14</td>\n",
       "      <td>0.0</td>\n",
       "    </tr>\n",
       "    <tr>\n",
       "      <th>201404</th>\n",
       "      <td>202011</td>\n",
       "      <td>COAST</td>\n",
       "      <td>MOMBASA</td>\n",
       "      <td>89713749</td>\n",
       "      <td>57300035847</td>\n",
       "      <td>A1-1 SC1</td>\n",
       "      <td>2022-09-14</td>\n",
       "      <td>0.0</td>\n",
       "    </tr>\n",
       "    <tr>\n",
       "      <th>201405</th>\n",
       "      <td>202012</td>\n",
       "      <td>COAST</td>\n",
       "      <td>MOMBASA</td>\n",
       "      <td>89713749</td>\n",
       "      <td>57300035847</td>\n",
       "      <td>A1-1 SC1</td>\n",
       "      <td>2022-09-14</td>\n",
       "      <td>0.0</td>\n",
       "    </tr>\n",
       "    <tr>\n",
       "      <th>201406</th>\n",
       "      <td>202101</td>\n",
       "      <td>COAST</td>\n",
       "      <td>MOMBASA</td>\n",
       "      <td>89713749</td>\n",
       "      <td>57300035847</td>\n",
       "      <td>A1-1 SC1</td>\n",
       "      <td>2022-09-14</td>\n",
       "      <td>0.0</td>\n",
       "    </tr>\n",
       "    <tr>\n",
       "      <th>201407</th>\n",
       "      <td>202102</td>\n",
       "      <td>COAST</td>\n",
       "      <td>MOMBASA</td>\n",
       "      <td>89713749</td>\n",
       "      <td>57300035847</td>\n",
       "      <td>A1-1 SC1</td>\n",
       "      <td>2022-09-14</td>\n",
       "      <td>0.0</td>\n",
       "    </tr>\n",
       "  </tbody>\n",
       "</table>\n",
       "<p>201408 rows × 8 columns</p>\n",
       "</div>"
      ],
      "text/plain": [
       "        PERIOD        REGION        COUNTY       ACC          MTR COD_TARIFF  \\\n",
       "0       202102         COAST       MOMBASA  86579721  57100062272  A0-1 DC-L   \n",
       "1       201801  NAIROBI WEST  NAIROBI WEST  86579721  57100062272       A0-1   \n",
       "2       201802  NAIROBI WEST  NAIROBI WEST  86579721  57100062272       A0-1   \n",
       "3       201803  NAIROBI WEST  NAIROBI WEST  86579721  57100062272       A0-1   \n",
       "4       201804  NAIROBI WEST  NAIROBI WEST  86579721  57100062272       A0-1   \n",
       "...        ...           ...           ...       ...          ...        ...   \n",
       "201403  202010         COAST       MOMBASA  89713749  57300035847   A1-1 SC1   \n",
       "201404  202011         COAST       MOMBASA  89713749  57300035847   A1-1 SC1   \n",
       "201405  202012         COAST       MOMBASA  89713749  57300035847   A1-1 SC1   \n",
       "201406  202101         COAST       MOMBASA  89713749  57300035847   A1-1 SC1   \n",
       "201407  202102         COAST       MOMBASA  89713749  57300035847   A1-1 SC1   \n",
       "\n",
       "       INSTALLATION_DATE  UNITS  \n",
       "0             2020-12-04    0.0  \n",
       "1             2020-12-04   54.0  \n",
       "2             2020-12-04  100.0  \n",
       "3             2020-12-04    0.0  \n",
       "4             2020-12-04   76.0  \n",
       "...                  ...    ...  \n",
       "201403        2022-09-14    0.0  \n",
       "201404        2022-09-14    0.0  \n",
       "201405        2022-09-14    0.0  \n",
       "201406        2022-09-14    0.0  \n",
       "201407        2022-09-14    0.0  \n",
       "\n",
       "[201408 rows x 8 columns]"
      ]
     },
     "execution_count": 2,
     "metadata": {},
     "output_type": "execute_result"
    }
   ],
   "source": [
    "#Loading dataset\n",
    "\n",
    "df = pd.read_excel(\"KplcData/Daset.xlsx\") \n",
    "df\n"
   ]
  },
  {
   "cell_type": "code",
   "execution_count": 3,
   "id": "59a944ef",
   "metadata": {},
   "outputs": [
    {
     "name": "stdout",
     "output_type": "stream",
     "text": [
      "Dataset Length:  201408\n",
      "Dataset Shape:  (201408, 8)\n"
     ]
    }
   ],
   "source": [
    "#Basic length and shape of the data \n",
    "\n",
    "print(\"Dataset Length: \", len(df)) \n",
    "print(\"Dataset Shape: \", df.shape)"
   ]
  },
  {
   "cell_type": "markdown",
   "id": "b03e0f9f",
   "metadata": {},
   "source": [
    "This describes the lenghth and shape of the data to check if they align with dataset provided "
   ]
  },
  {
   "cell_type": "code",
   "execution_count": 4,
   "id": "8b5f1b19",
   "metadata": {},
   "outputs": [
    {
     "name": "stdout",
     "output_type": "stream",
     "text": [
      "<class 'pandas.core.frame.DataFrame'>\n",
      "RangeIndex: 201408 entries, 0 to 201407\n",
      "Data columns (total 8 columns):\n",
      " #   Column             Non-Null Count   Dtype  \n",
      "---  ------             --------------   -----  \n",
      " 0   PERIOD             201408 non-null  int64  \n",
      " 1   REGION             201408 non-null  object \n",
      " 2   COUNTY             201408 non-null  object \n",
      " 3   ACC                201408 non-null  int64  \n",
      " 4   MTR                201408 non-null  int64  \n",
      " 5   COD_TARIFF         201396 non-null  object \n",
      " 6   INSTALLATION_DATE  201408 non-null  object \n",
      " 7   UNITS              201267 non-null  float64\n",
      "dtypes: float64(1), int64(3), object(4)\n",
      "memory usage: 12.3+ MB\n"
     ]
    }
   ],
   "source": [
    "#Information of the data\n",
    "\n",
    "df.info()"
   ]
  },
  {
   "cell_type": "markdown",
   "id": "75346812",
   "metadata": {},
   "source": [
    "From .info(), we can tell that our data contains 201408 entries. The features are all both in numerical and object form in this csv file. From the dataset presented in .head(), the features are repeated and therefore, it is a categorical attribute. the attribute 'UNITS' has a total of 201267 features insteasd of 201408 features, therefore, some disricts are missing features. "
   ]
  },
  {
   "cell_type": "code",
   "execution_count": 5,
   "id": "dbdc4b23",
   "metadata": {},
   "outputs": [
    {
     "data": {
      "text/html": [
       "<div>\n",
       "<style scoped>\n",
       "    .dataframe tbody tr th:only-of-type {\n",
       "        vertical-align: middle;\n",
       "    }\n",
       "\n",
       "    .dataframe tbody tr th {\n",
       "        vertical-align: top;\n",
       "    }\n",
       "\n",
       "    .dataframe thead th {\n",
       "        text-align: right;\n",
       "    }\n",
       "</style>\n",
       "<table border=\"1\" class=\"dataframe\">\n",
       "  <thead>\n",
       "    <tr style=\"text-align: right;\">\n",
       "      <th></th>\n",
       "      <th>PERIOD</th>\n",
       "      <th>REGION</th>\n",
       "      <th>COUNTY</th>\n",
       "      <th>ACC</th>\n",
       "      <th>MTR</th>\n",
       "      <th>COD_TARIFF</th>\n",
       "      <th>INSTALLATION_DATE</th>\n",
       "      <th>UNITS</th>\n",
       "    </tr>\n",
       "  </thead>\n",
       "  <tbody>\n",
       "    <tr>\n",
       "      <th>0</th>\n",
       "      <td>202102</td>\n",
       "      <td>COAST</td>\n",
       "      <td>MOMBASA</td>\n",
       "      <td>86579721</td>\n",
       "      <td>57100062272</td>\n",
       "      <td>A0-1 DC-L</td>\n",
       "      <td>2020-12-04</td>\n",
       "      <td>0.0</td>\n",
       "    </tr>\n",
       "    <tr>\n",
       "      <th>1</th>\n",
       "      <td>201801</td>\n",
       "      <td>NAIROBI WEST</td>\n",
       "      <td>NAIROBI WEST</td>\n",
       "      <td>86579721</td>\n",
       "      <td>57100062272</td>\n",
       "      <td>A0-1</td>\n",
       "      <td>2020-12-04</td>\n",
       "      <td>54.0</td>\n",
       "    </tr>\n",
       "    <tr>\n",
       "      <th>2</th>\n",
       "      <td>201802</td>\n",
       "      <td>NAIROBI WEST</td>\n",
       "      <td>NAIROBI WEST</td>\n",
       "      <td>86579721</td>\n",
       "      <td>57100062272</td>\n",
       "      <td>A0-1</td>\n",
       "      <td>2020-12-04</td>\n",
       "      <td>100.0</td>\n",
       "    </tr>\n",
       "    <tr>\n",
       "      <th>3</th>\n",
       "      <td>201803</td>\n",
       "      <td>NAIROBI WEST</td>\n",
       "      <td>NAIROBI WEST</td>\n",
       "      <td>86579721</td>\n",
       "      <td>57100062272</td>\n",
       "      <td>A0-1</td>\n",
       "      <td>2020-12-04</td>\n",
       "      <td>0.0</td>\n",
       "    </tr>\n",
       "    <tr>\n",
       "      <th>4</th>\n",
       "      <td>201804</td>\n",
       "      <td>NAIROBI WEST</td>\n",
       "      <td>NAIROBI WEST</td>\n",
       "      <td>86579721</td>\n",
       "      <td>57100062272</td>\n",
       "      <td>A0-1</td>\n",
       "      <td>2020-12-04</td>\n",
       "      <td>76.0</td>\n",
       "    </tr>\n",
       "  </tbody>\n",
       "</table>\n",
       "</div>"
      ],
      "text/plain": [
       "   PERIOD        REGION        COUNTY       ACC          MTR COD_TARIFF  \\\n",
       "0  202102         COAST       MOMBASA  86579721  57100062272  A0-1 DC-L   \n",
       "1  201801  NAIROBI WEST  NAIROBI WEST  86579721  57100062272       A0-1   \n",
       "2  201802  NAIROBI WEST  NAIROBI WEST  86579721  57100062272       A0-1   \n",
       "3  201803  NAIROBI WEST  NAIROBI WEST  86579721  57100062272       A0-1   \n",
       "4  201804  NAIROBI WEST  NAIROBI WEST  86579721  57100062272       A0-1   \n",
       "\n",
       "  INSTALLATION_DATE  UNITS  \n",
       "0        2020-12-04    0.0  \n",
       "1        2020-12-04   54.0  \n",
       "2        2020-12-04  100.0  \n",
       "3        2020-12-04    0.0  \n",
       "4        2020-12-04   76.0  "
      ]
     },
     "execution_count": 5,
     "metadata": {},
     "output_type": "execute_result"
    }
   ],
   "source": [
    "#Top dataframe\n",
    "\n",
    "df.head()"
   ]
  },
  {
   "cell_type": "markdown",
   "id": "e004da06",
   "metadata": {},
   "source": [
    "df.head() gives us a snippet of how our code should look like instaed of the whole dataset."
   ]
  },
  {
   "cell_type": "code",
   "execution_count": 6,
   "id": "05e4fde4",
   "metadata": {},
   "outputs": [
    {
     "data": {
      "text/plain": [
       "Index(['PERIOD', 'REGION', 'COUNTY', 'ACC', 'MTR', 'COD_TARIFF',\n",
       "       'INSTALLATION_DATE', 'UNITS'],\n",
       "      dtype='object')"
      ]
     },
     "execution_count": 6,
     "metadata": {},
     "output_type": "execute_result"
    }
   ],
   "source": [
    "#Columns of the dataframe \n",
    "\n",
    "df.columns"
   ]
  },
  {
   "cell_type": "markdown",
   "id": "c485e565",
   "metadata": {},
   "source": [
    "# Data Cleaning\n",
    "\n",
    "Here we are creating a few function sto take care of missing values, get information on the dataset, transform dataset. Most machine learning algorithms cannot work with missing features. One can:\n",
    "\n",
    "   - get rid of the corresponding districts (dropna())\n",
    "   - get rid of the whole attribute. (drop())\n",
    "   - set the vaues to some value ie zero, mean, median etc (fillna())\n"
   ]
  },
  {
   "cell_type": "code",
   "execution_count": 7,
   "id": "7b7367be",
   "metadata": {},
   "outputs": [
    {
     "data": {
      "text/html": [
       "<div>\n",
       "<style scoped>\n",
       "    .dataframe tbody tr th:only-of-type {\n",
       "        vertical-align: middle;\n",
       "    }\n",
       "\n",
       "    .dataframe tbody tr th {\n",
       "        vertical-align: top;\n",
       "    }\n",
       "\n",
       "    .dataframe thead th {\n",
       "        text-align: right;\n",
       "    }\n",
       "</style>\n",
       "<table border=\"1\" class=\"dataframe\">\n",
       "  <thead>\n",
       "    <tr style=\"text-align: right;\">\n",
       "      <th></th>\n",
       "      <th>PERIOD</th>\n",
       "      <th>ACC</th>\n",
       "      <th>MTR</th>\n",
       "      <th>UNITS</th>\n",
       "    </tr>\n",
       "  </thead>\n",
       "  <tbody>\n",
       "    <tr>\n",
       "      <th>count</th>\n",
       "      <td>201408.000000</td>\n",
       "      <td>2.014080e+05</td>\n",
       "      <td>2.014080e+05</td>\n",
       "      <td>201267.000000</td>\n",
       "    </tr>\n",
       "    <tr>\n",
       "      <th>mean</th>\n",
       "      <td>201987.108258</td>\n",
       "      <td>3.608852e+08</td>\n",
       "      <td>5.808949e+10</td>\n",
       "      <td>743.849096</td>\n",
       "    </tr>\n",
       "    <tr>\n",
       "      <th>std</th>\n",
       "      <td>134.841849</td>\n",
       "      <td>1.630759e+10</td>\n",
       "      <td>1.152490e+10</td>\n",
       "      <td>2773.179923</td>\n",
       "    </tr>\n",
       "    <tr>\n",
       "      <th>min</th>\n",
       "      <td>201801.000000</td>\n",
       "      <td>5.612410e+05</td>\n",
       "      <td>5.710000e+10</td>\n",
       "      <td>-148957.000000</td>\n",
       "    </tr>\n",
       "    <tr>\n",
       "      <th>25%</th>\n",
       "      <td>201902.000000</td>\n",
       "      <td>6.207118e+07</td>\n",
       "      <td>5.710025e+10</td>\n",
       "      <td>1.000000</td>\n",
       "    </tr>\n",
       "    <tr>\n",
       "      <th>50%</th>\n",
       "      <td>202004.000000</td>\n",
       "      <td>6.661879e+07</td>\n",
       "      <td>5.710045e+10</td>\n",
       "      <td>129.000000</td>\n",
       "    </tr>\n",
       "    <tr>\n",
       "      <th>75%</th>\n",
       "      <td>202106.000000</td>\n",
       "      <td>7.782594e+07</td>\n",
       "      <td>5.730003e+10</td>\n",
       "      <td>545.000000</td>\n",
       "    </tr>\n",
       "    <tr>\n",
       "      <th>max</th>\n",
       "      <td>202208.000000</td>\n",
       "      <td>9.040874e+11</td>\n",
       "      <td>2.108310e+11</td>\n",
       "      <td>256780.000000</td>\n",
       "    </tr>\n",
       "  </tbody>\n",
       "</table>\n",
       "</div>"
      ],
      "text/plain": [
       "              PERIOD           ACC           MTR          UNITS\n",
       "count  201408.000000  2.014080e+05  2.014080e+05  201267.000000\n",
       "mean   201987.108258  3.608852e+08  5.808949e+10     743.849096\n",
       "std       134.841849  1.630759e+10  1.152490e+10    2773.179923\n",
       "min    201801.000000  5.612410e+05  5.710000e+10 -148957.000000\n",
       "25%    201902.000000  6.207118e+07  5.710025e+10       1.000000\n",
       "50%    202004.000000  6.661879e+07  5.710045e+10     129.000000\n",
       "75%    202106.000000  7.782594e+07  5.730003e+10     545.000000\n",
       "max    202208.000000  9.040874e+11  2.108310e+11  256780.000000"
      ]
     },
     "execution_count": 7,
     "metadata": {},
     "output_type": "execute_result"
    }
   ],
   "source": [
    "#The statistics on the data\n",
    "\n",
    "df.describe()"
   ]
  },
  {
   "cell_type": "markdown",
   "id": "5e497fee",
   "metadata": {},
   "source": [
    "This reveals the mean, minimum, maximum and standard deviation of the numerical data. 25, 50 and 75 are the percentiles of each value."
   ]
  },
  {
   "cell_type": "code",
   "execution_count": 8,
   "id": "d6628fd3",
   "metadata": {},
   "outputs": [
    {
     "name": "stderr",
     "output_type": "stream",
     "text": [
      "/tmp/ipykernel_5832/3258034647.py:2: FutureWarning: The default value of numeric_only in DataFrameGroupBy.sum is deprecated. In a future version, numeric_only will default to False. Either specify numeric_only or select only columns which should be valid for the function.\n",
      "  tariff_group = df.groupby(['COD_TARIFF', 'REGION']).sum()\n"
     ]
    },
    {
     "data": {
      "text/html": [
       "<div>\n",
       "<style scoped>\n",
       "    .dataframe tbody tr th:only-of-type {\n",
       "        vertical-align: middle;\n",
       "    }\n",
       "\n",
       "    .dataframe tbody tr th {\n",
       "        vertical-align: top;\n",
       "    }\n",
       "\n",
       "    .dataframe thead th {\n",
       "        text-align: right;\n",
       "    }\n",
       "</style>\n",
       "<table border=\"1\" class=\"dataframe\">\n",
       "  <thead>\n",
       "    <tr style=\"text-align: right;\">\n",
       "      <th></th>\n",
       "      <th></th>\n",
       "      <th>PERIOD</th>\n",
       "      <th>ACC</th>\n",
       "      <th>MTR</th>\n",
       "      <th>UNITS</th>\n",
       "    </tr>\n",
       "    <tr>\n",
       "      <th>COD_TARIFF</th>\n",
       "      <th>REGION</th>\n",
       "      <th></th>\n",
       "      <th></th>\n",
       "      <th></th>\n",
       "      <th></th>\n",
       "    </tr>\n",
       "  </thead>\n",
       "  <tbody>\n",
       "    <tr>\n",
       "      <th rowspan=\"5\" valign=\"top\">A0-1</th>\n",
       "      <th>CENTRAL RIFT</th>\n",
       "      <td>103323657</td>\n",
       "      <td>32895842580</td>\n",
       "      <td>31110859035554</td>\n",
       "      <td>103709.0</td>\n",
       "    </tr>\n",
       "    <tr>\n",
       "      <th>COAST</th>\n",
       "      <td>142877247</td>\n",
       "      <td>49791192317</td>\n",
       "      <td>41438686057081</td>\n",
       "      <td>129070.0</td>\n",
       "    </tr>\n",
       "    <tr>\n",
       "      <th>MT KENYA</th>\n",
       "      <td>45607712</td>\n",
       "      <td>15236256733</td>\n",
       "      <td>12908257991126</td>\n",
       "      <td>36483.0</td>\n",
       "    </tr>\n",
       "    <tr>\n",
       "      <th>NAIROBI NORTH</th>\n",
       "      <td>371117499</td>\n",
       "      <td>98333142383</td>\n",
       "      <td>108075046659712</td>\n",
       "      <td>538356.0</td>\n",
       "    </tr>\n",
       "    <tr>\n",
       "      <th>NAIROBI SOUTH</th>\n",
       "      <td>153774654</td>\n",
       "      <td>41050216887</td>\n",
       "      <td>44556434887734</td>\n",
       "      <td>157010.0</td>\n",
       "    </tr>\n",
       "    <tr>\n",
       "      <th>...</th>\n",
       "      <th>...</th>\n",
       "      <td>...</td>\n",
       "      <td>...</td>\n",
       "      <td>...</td>\n",
       "      <td>...</td>\n",
       "    </tr>\n",
       "    <tr>\n",
       "      <th>P0-1 DC-L</th>\n",
       "      <th>WEST KENYA</th>\n",
       "      <td>202012</td>\n",
       "      <td>68448846</td>\n",
       "      <td>57100515402</td>\n",
       "      <td>0.0</td>\n",
       "    </tr>\n",
       "    <tr>\n",
       "      <th rowspan=\"3\" valign=\"top\">P0-1 DC-O</th>\n",
       "      <th>NAIROBI NORTH</th>\n",
       "      <td>202003</td>\n",
       "      <td>82061641</td>\n",
       "      <td>57300029063</td>\n",
       "      <td>0.0</td>\n",
       "    </tr>\n",
       "    <tr>\n",
       "      <th>NORTH EASTERN</th>\n",
       "      <td>202103</td>\n",
       "      <td>80682327</td>\n",
       "      <td>57100095413</td>\n",
       "      <td>0.0</td>\n",
       "    </tr>\n",
       "    <tr>\n",
       "      <th>SOUTH NYANZA</th>\n",
       "      <td>6668313</td>\n",
       "      <td>2904860013</td>\n",
       "      <td>1884315931905</td>\n",
       "      <td>805.0</td>\n",
       "    </tr>\n",
       "    <tr>\n",
       "      <th>P1-1 SC</th>\n",
       "      <th>CENTRAL RIFT</th>\n",
       "      <td>202203</td>\n",
       "      <td>63225997</td>\n",
       "      <td>57100238070</td>\n",
       "      <td>0.0</td>\n",
       "    </tr>\n",
       "  </tbody>\n",
       "</table>\n",
       "<p>89 rows × 4 columns</p>\n",
       "</div>"
      ],
      "text/plain": [
       "                             PERIOD          ACC              MTR     UNITS\n",
       "COD_TARIFF REGION                                                          \n",
       "A0-1       CENTRAL RIFT   103323657  32895842580   31110859035554  103709.0\n",
       "           COAST          142877247  49791192317   41438686057081  129070.0\n",
       "           MT KENYA        45607712  15236256733   12908257991126   36483.0\n",
       "           NAIROBI NORTH  371117499  98333142383  108075046659712  538356.0\n",
       "           NAIROBI SOUTH  153774654  41050216887   44556434887734  157010.0\n",
       "...                             ...          ...              ...       ...\n",
       "P0-1 DC-L  WEST KENYA        202012     68448846      57100515402       0.0\n",
       "P0-1 DC-O  NAIROBI NORTH     202003     82061641      57300029063       0.0\n",
       "           NORTH EASTERN     202103     80682327      57100095413       0.0\n",
       "           SOUTH NYANZA     6668313   2904860013    1884315931905     805.0\n",
       "P1-1 SC    CENTRAL RIFT      202203     63225997      57100238070       0.0\n",
       "\n",
       "[89 rows x 4 columns]"
      ]
     },
     "execution_count": 8,
     "metadata": {},
     "output_type": "execute_result"
    }
   ],
   "source": [
    "tariff_group = df.ACC.value_counts()\n",
    "tariff_group = df.groupby(['COD_TARIFF', 'REGION']).sum()\n",
    "tariff_group"
   ]
  },
  {
   "cell_type": "markdown",
   "id": "8bf41310",
   "metadata": {},
   "source": [
    "-By using groupby, we find the value of each tariff in terms of their total units of all the meters used in the consumption of energy"
   ]
  },
  {
   "cell_type": "code",
   "execution_count": 9,
   "id": "ae8a1f39",
   "metadata": {},
   "outputs": [
    {
     "data": {
      "text/html": [
       "<div>\n",
       "<style scoped>\n",
       "    .dataframe tbody tr th:only-of-type {\n",
       "        vertical-align: middle;\n",
       "    }\n",
       "\n",
       "    .dataframe tbody tr th {\n",
       "        vertical-align: top;\n",
       "    }\n",
       "\n",
       "    .dataframe thead th {\n",
       "        text-align: right;\n",
       "    }\n",
       "</style>\n",
       "<table border=\"1\" class=\"dataframe\">\n",
       "  <thead>\n",
       "    <tr style=\"text-align: right;\">\n",
       "      <th></th>\n",
       "      <th>PERIOD</th>\n",
       "      <th>REGION</th>\n",
       "      <th>COUNTY</th>\n",
       "      <th>ACC</th>\n",
       "      <th>MTR</th>\n",
       "      <th>COD_TARIFF</th>\n",
       "      <th>INSTALLATION_DATE</th>\n",
       "      <th>UNITS</th>\n",
       "      <th>year</th>\n",
       "      <th>month</th>\n",
       "      <th>day</th>\n",
       "    </tr>\n",
       "  </thead>\n",
       "  <tbody>\n",
       "    <tr>\n",
       "      <th>0</th>\n",
       "      <td>202102</td>\n",
       "      <td>COAST</td>\n",
       "      <td>MOMBASA</td>\n",
       "      <td>86579721</td>\n",
       "      <td>57100062272</td>\n",
       "      <td>A0-1 DC-L</td>\n",
       "      <td>2020-12-04</td>\n",
       "      <td>0.0</td>\n",
       "      <td>2020</td>\n",
       "      <td>12</td>\n",
       "      <td>4</td>\n",
       "    </tr>\n",
       "    <tr>\n",
       "      <th>1</th>\n",
       "      <td>201801</td>\n",
       "      <td>NAIROBI WEST</td>\n",
       "      <td>NAIROBI WEST</td>\n",
       "      <td>86579721</td>\n",
       "      <td>57100062272</td>\n",
       "      <td>A0-1</td>\n",
       "      <td>2020-12-04</td>\n",
       "      <td>54.0</td>\n",
       "      <td>2020</td>\n",
       "      <td>12</td>\n",
       "      <td>4</td>\n",
       "    </tr>\n",
       "    <tr>\n",
       "      <th>2</th>\n",
       "      <td>201802</td>\n",
       "      <td>NAIROBI WEST</td>\n",
       "      <td>NAIROBI WEST</td>\n",
       "      <td>86579721</td>\n",
       "      <td>57100062272</td>\n",
       "      <td>A0-1</td>\n",
       "      <td>2020-12-04</td>\n",
       "      <td>100.0</td>\n",
       "      <td>2020</td>\n",
       "      <td>12</td>\n",
       "      <td>4</td>\n",
       "    </tr>\n",
       "    <tr>\n",
       "      <th>3</th>\n",
       "      <td>201803</td>\n",
       "      <td>NAIROBI WEST</td>\n",
       "      <td>NAIROBI WEST</td>\n",
       "      <td>86579721</td>\n",
       "      <td>57100062272</td>\n",
       "      <td>A0-1</td>\n",
       "      <td>2020-12-04</td>\n",
       "      <td>0.0</td>\n",
       "      <td>2020</td>\n",
       "      <td>12</td>\n",
       "      <td>4</td>\n",
       "    </tr>\n",
       "    <tr>\n",
       "      <th>4</th>\n",
       "      <td>201804</td>\n",
       "      <td>NAIROBI WEST</td>\n",
       "      <td>NAIROBI WEST</td>\n",
       "      <td>86579721</td>\n",
       "      <td>57100062272</td>\n",
       "      <td>A0-1</td>\n",
       "      <td>2020-12-04</td>\n",
       "      <td>76.0</td>\n",
       "      <td>2020</td>\n",
       "      <td>12</td>\n",
       "      <td>4</td>\n",
       "    </tr>\n",
       "    <tr>\n",
       "      <th>...</th>\n",
       "      <td>...</td>\n",
       "      <td>...</td>\n",
       "      <td>...</td>\n",
       "      <td>...</td>\n",
       "      <td>...</td>\n",
       "      <td>...</td>\n",
       "      <td>...</td>\n",
       "      <td>...</td>\n",
       "      <td>...</td>\n",
       "      <td>...</td>\n",
       "      <td>...</td>\n",
       "    </tr>\n",
       "    <tr>\n",
       "      <th>201403</th>\n",
       "      <td>202010</td>\n",
       "      <td>COAST</td>\n",
       "      <td>MOMBASA</td>\n",
       "      <td>89713749</td>\n",
       "      <td>57300035847</td>\n",
       "      <td>A1-1 SC1</td>\n",
       "      <td>2022-09-14</td>\n",
       "      <td>0.0</td>\n",
       "      <td>2022</td>\n",
       "      <td>9</td>\n",
       "      <td>14</td>\n",
       "    </tr>\n",
       "    <tr>\n",
       "      <th>201404</th>\n",
       "      <td>202011</td>\n",
       "      <td>COAST</td>\n",
       "      <td>MOMBASA</td>\n",
       "      <td>89713749</td>\n",
       "      <td>57300035847</td>\n",
       "      <td>A1-1 SC1</td>\n",
       "      <td>2022-09-14</td>\n",
       "      <td>0.0</td>\n",
       "      <td>2022</td>\n",
       "      <td>9</td>\n",
       "      <td>14</td>\n",
       "    </tr>\n",
       "    <tr>\n",
       "      <th>201405</th>\n",
       "      <td>202012</td>\n",
       "      <td>COAST</td>\n",
       "      <td>MOMBASA</td>\n",
       "      <td>89713749</td>\n",
       "      <td>57300035847</td>\n",
       "      <td>A1-1 SC1</td>\n",
       "      <td>2022-09-14</td>\n",
       "      <td>0.0</td>\n",
       "      <td>2022</td>\n",
       "      <td>9</td>\n",
       "      <td>14</td>\n",
       "    </tr>\n",
       "    <tr>\n",
       "      <th>201406</th>\n",
       "      <td>202101</td>\n",
       "      <td>COAST</td>\n",
       "      <td>MOMBASA</td>\n",
       "      <td>89713749</td>\n",
       "      <td>57300035847</td>\n",
       "      <td>A1-1 SC1</td>\n",
       "      <td>2022-09-14</td>\n",
       "      <td>0.0</td>\n",
       "      <td>2022</td>\n",
       "      <td>9</td>\n",
       "      <td>14</td>\n",
       "    </tr>\n",
       "    <tr>\n",
       "      <th>201407</th>\n",
       "      <td>202102</td>\n",
       "      <td>COAST</td>\n",
       "      <td>MOMBASA</td>\n",
       "      <td>89713749</td>\n",
       "      <td>57300035847</td>\n",
       "      <td>A1-1 SC1</td>\n",
       "      <td>2022-09-14</td>\n",
       "      <td>0.0</td>\n",
       "      <td>2022</td>\n",
       "      <td>9</td>\n",
       "      <td>14</td>\n",
       "    </tr>\n",
       "  </tbody>\n",
       "</table>\n",
       "<p>201408 rows × 11 columns</p>\n",
       "</div>"
      ],
      "text/plain": [
       "        PERIOD        REGION        COUNTY       ACC          MTR COD_TARIFF  \\\n",
       "0       202102         COAST       MOMBASA  86579721  57100062272  A0-1 DC-L   \n",
       "1       201801  NAIROBI WEST  NAIROBI WEST  86579721  57100062272       A0-1   \n",
       "2       201802  NAIROBI WEST  NAIROBI WEST  86579721  57100062272       A0-1   \n",
       "3       201803  NAIROBI WEST  NAIROBI WEST  86579721  57100062272       A0-1   \n",
       "4       201804  NAIROBI WEST  NAIROBI WEST  86579721  57100062272       A0-1   \n",
       "...        ...           ...           ...       ...          ...        ...   \n",
       "201403  202010         COAST       MOMBASA  89713749  57300035847   A1-1 SC1   \n",
       "201404  202011         COAST       MOMBASA  89713749  57300035847   A1-1 SC1   \n",
       "201405  202012         COAST       MOMBASA  89713749  57300035847   A1-1 SC1   \n",
       "201406  202101         COAST       MOMBASA  89713749  57300035847   A1-1 SC1   \n",
       "201407  202102         COAST       MOMBASA  89713749  57300035847   A1-1 SC1   \n",
       "\n",
       "       INSTALLATION_DATE  UNITS  year  month  day  \n",
       "0             2020-12-04    0.0  2020     12    4  \n",
       "1             2020-12-04   54.0  2020     12    4  \n",
       "2             2020-12-04  100.0  2020     12    4  \n",
       "3             2020-12-04    0.0  2020     12    4  \n",
       "4             2020-12-04   76.0  2020     12    4  \n",
       "...                  ...    ...   ...    ...  ...  \n",
       "201403        2022-09-14    0.0  2022      9   14  \n",
       "201404        2022-09-14    0.0  2022      9   14  \n",
       "201405        2022-09-14    0.0  2022      9   14  \n",
       "201406        2022-09-14    0.0  2022      9   14  \n",
       "201407        2022-09-14    0.0  2022      9   14  \n",
       "\n",
       "[201408 rows x 11 columns]"
      ]
     },
     "execution_count": 9,
     "metadata": {},
     "output_type": "execute_result"
    }
   ],
   "source": [
    "#Getting the days and months of installation of the smart meters \n",
    "\n",
    "df[\"year\"] = pd.to_datetime(df[\"INSTALLATION_DATE\"]).dt.year\n",
    "df[\"month\"] = pd.to_datetime(df[\"INSTALLATION_DATE\"]).dt.month\n",
    "df[\"day\"] = pd.to_datetime(df[\"INSTALLATION_DATE\"]).dt.day\n",
    "df"
   ]
  },
  {
   "cell_type": "code",
   "execution_count": 10,
   "id": "d6bc153b",
   "metadata": {},
   "outputs": [
    {
     "data": {
      "text/html": [
       "<div>\n",
       "<style scoped>\n",
       "    .dataframe tbody tr th:only-of-type {\n",
       "        vertical-align: middle;\n",
       "    }\n",
       "\n",
       "    .dataframe tbody tr th {\n",
       "        vertical-align: top;\n",
       "    }\n",
       "\n",
       "    .dataframe thead th {\n",
       "        text-align: right;\n",
       "    }\n",
       "</style>\n",
       "<table border=\"1\" class=\"dataframe\">\n",
       "  <thead>\n",
       "    <tr style=\"text-align: right;\">\n",
       "      <th></th>\n",
       "      <th>PERIOD</th>\n",
       "      <th>ACC</th>\n",
       "      <th>MTR</th>\n",
       "      <th>UNITS</th>\n",
       "      <th>year</th>\n",
       "      <th>month</th>\n",
       "      <th>day</th>\n",
       "    </tr>\n",
       "  </thead>\n",
       "  <tbody>\n",
       "    <tr>\n",
       "      <th>count</th>\n",
       "      <td>12578.000000</td>\n",
       "      <td>1.257800e+04</td>\n",
       "      <td>1.257800e+04</td>\n",
       "      <td>12576.000000</td>\n",
       "      <td>12578.000000</td>\n",
       "      <td>12578.000000</td>\n",
       "      <td>12578.000000</td>\n",
       "    </tr>\n",
       "    <tr>\n",
       "      <th>mean</th>\n",
       "      <td>201993.164017</td>\n",
       "      <td>7.087287e+07</td>\n",
       "      <td>5.782317e+10</td>\n",
       "      <td>804.115856</td>\n",
       "      <td>2021.324535</td>\n",
       "      <td>4.585864</td>\n",
       "      <td>12.570758</td>\n",
       "    </tr>\n",
       "    <tr>\n",
       "      <th>std</th>\n",
       "      <td>136.508815</td>\n",
       "      <td>1.094216e+07</td>\n",
       "      <td>9.804541e+09</td>\n",
       "      <td>2794.764970</td>\n",
       "      <td>0.481613</td>\n",
       "      <td>2.353436</td>\n",
       "      <td>8.212838</td>\n",
       "    </tr>\n",
       "    <tr>\n",
       "      <th>min</th>\n",
       "      <td>201801.000000</td>\n",
       "      <td>6.050710e+05</td>\n",
       "      <td>5.710000e+10</td>\n",
       "      <td>-29897.000000</td>\n",
       "      <td>2020.000000</td>\n",
       "      <td>1.000000</td>\n",
       "      <td>1.000000</td>\n",
       "    </tr>\n",
       "    <tr>\n",
       "      <th>25%</th>\n",
       "      <td>201902.000000</td>\n",
       "      <td>6.164171e+07</td>\n",
       "      <td>5.710024e+10</td>\n",
       "      <td>5.000000</td>\n",
       "      <td>2021.000000</td>\n",
       "      <td>3.000000</td>\n",
       "      <td>6.000000</td>\n",
       "    </tr>\n",
       "    <tr>\n",
       "      <th>50%</th>\n",
       "      <td>202005.000000</td>\n",
       "      <td>6.688245e+07</td>\n",
       "      <td>5.710048e+10</td>\n",
       "      <td>113.000000</td>\n",
       "      <td>2021.000000</td>\n",
       "      <td>4.000000</td>\n",
       "      <td>10.000000</td>\n",
       "    </tr>\n",
       "    <tr>\n",
       "      <th>75%</th>\n",
       "      <td>202107.000000</td>\n",
       "      <td>8.115340e+07</td>\n",
       "      <td>5.730000e+10</td>\n",
       "      <td>534.000000</td>\n",
       "      <td>2022.000000</td>\n",
       "      <td>7.000000</td>\n",
       "      <td>18.000000</td>\n",
       "    </tr>\n",
       "    <tr>\n",
       "      <th>max</th>\n",
       "      <td>202208.000000</td>\n",
       "      <td>9.049666e+07</td>\n",
       "      <td>2.006310e+11</td>\n",
       "      <td>130889.000000</td>\n",
       "      <td>2022.000000</td>\n",
       "      <td>12.000000</td>\n",
       "      <td>31.000000</td>\n",
       "    </tr>\n",
       "  </tbody>\n",
       "</table>\n",
       "</div>"
      ],
      "text/plain": [
       "              PERIOD           ACC           MTR          UNITS          year  \\\n",
       "count   12578.000000  1.257800e+04  1.257800e+04   12576.000000  12578.000000   \n",
       "mean   201993.164017  7.087287e+07  5.782317e+10     804.115856   2021.324535   \n",
       "std       136.508815  1.094216e+07  9.804541e+09    2794.764970      0.481613   \n",
       "min    201801.000000  6.050710e+05  5.710000e+10  -29897.000000   2020.000000   \n",
       "25%    201902.000000  6.164171e+07  5.710024e+10       5.000000   2021.000000   \n",
       "50%    202005.000000  6.688245e+07  5.710048e+10     113.000000   2021.000000   \n",
       "75%    202107.000000  8.115340e+07  5.730000e+10     534.000000   2022.000000   \n",
       "max    202208.000000  9.049666e+07  2.006310e+11  130889.000000   2022.000000   \n",
       "\n",
       "              month           day  \n",
       "count  12578.000000  12578.000000  \n",
       "mean       4.585864     12.570758  \n",
       "std        2.353436      8.212838  \n",
       "min        1.000000      1.000000  \n",
       "25%        3.000000      6.000000  \n",
       "50%        4.000000     10.000000  \n",
       "75%        7.000000     18.000000  \n",
       "max       12.000000     31.000000  "
      ]
     },
     "execution_count": 10,
     "metadata": {},
     "output_type": "execute_result"
    }
   ],
   "source": [
    "df.query('COUNTY == \"MOMBASA\"').describe()"
   ]
  },
  {
   "cell_type": "code",
   "execution_count": 11,
   "id": "888c087d",
   "metadata": {},
   "outputs": [
    {
     "data": {
      "text/plain": [
       "PERIOD                 0\n",
       "REGION                 0\n",
       "COUNTY                 0\n",
       "ACC                    0\n",
       "MTR                    0\n",
       "COD_TARIFF            12\n",
       "INSTALLATION_DATE      0\n",
       "UNITS                141\n",
       "year                   0\n",
       "month                  0\n",
       "day                    0\n",
       "dtype: int64"
      ]
     },
     "execution_count": 11,
     "metadata": {},
     "output_type": "execute_result"
    }
   ],
   "source": [
    "#Sum of the total number of null values in each column of the dataset \n",
    "\n",
    "df.isnull().sum()\n"
   ]
  },
  {
   "cell_type": "code",
   "execution_count": 12,
   "id": "1d1259fd",
   "metadata": {},
   "outputs": [],
   "source": [
    "#Removing all the null values in the dataset and replacing them with 1.\n",
    "\n",
    "df.fillna(1, inplace=True)"
   ]
  },
  {
   "cell_type": "code",
   "execution_count": 13,
   "id": "ea12e5ab",
   "metadata": {
    "scrolled": false
   },
   "outputs": [
    {
     "data": {
      "text/plain": [
       "PERIOD               0\n",
       "REGION               0\n",
       "COUNTY               0\n",
       "ACC                  0\n",
       "MTR                  0\n",
       "COD_TARIFF           0\n",
       "INSTALLATION_DATE    0\n",
       "UNITS                0\n",
       "year                 0\n",
       "month                0\n",
       "day                  0\n",
       "dtype: int64"
      ]
     },
     "execution_count": 13,
     "metadata": {},
     "output_type": "execute_result"
    }
   ],
   "source": [
    "df.isnull().sum()"
   ]
  },
  {
   "cell_type": "code",
   "execution_count": 14,
   "id": "19617aa3",
   "metadata": {},
   "outputs": [
    {
     "data": {
      "text/plain": [
       "Index(['PERIOD', 'REGION', 'COUNTY', 'ACC', 'MTR', 'COD_TARIFF',\n",
       "       'INSTALLATION_DATE', 'UNITS', 'year', 'month', 'day'],\n",
       "      dtype='object')"
      ]
     },
     "execution_count": 14,
     "metadata": {},
     "output_type": "execute_result"
    }
   ],
   "source": [
    "df.columns"
   ]
  },
  {
   "cell_type": "code",
   "execution_count": 15,
   "id": "4b6e7c0c",
   "metadata": {},
   "outputs": [
    {
     "data": {
      "text/plain": [
       "array(['MOMBASA', 'NAIROBI WEST', 'NAIROBI SOUTH', 'NAIROBI NORTH',\n",
       "       'KIAMBU', 'KAJIADO', 'KISUMU', 'NAKURU', 'NYERI', 'MACHAKOS',\n",
       "       'KISII', 'UASIN GISHU', 'TRANS NZOIA', 'HOMABAY', 'MIGORI',\n",
       "       'NYAMIRA', 'MERU', 'MURANGA', 'KAKAMEGA', 'VIHIGA', 'KERICHO',\n",
       "       'BUNGOMA', 'NANDI', 'KIRINYAGA', 'BUSIA', 'SAMBURU', 'EMBU',\n",
       "       'KILIFI', 'NYANDARUA', 'TANA RIVER', 'WEST POKOT', 'SIAYA',\n",
       "       'KWALE', 'WAJIR', 'ELGEYO MARAKWET', 'LAIKIPIA', 'TAITA TAVETA',\n",
       "       'MAKUENI', 'GARISSA', 'THARAKA NITHI'], dtype=object)"
      ]
     },
     "execution_count": 15,
     "metadata": {},
     "output_type": "execute_result"
    }
   ],
   "source": [
    "df[\"COUNTY\"].unique()"
   ]
  },
  {
   "cell_type": "code",
   "execution_count": 16,
   "id": "c5ddd8f6",
   "metadata": {},
   "outputs": [
    {
     "name": "stdout",
     "output_type": "stream",
     "text": [
      "NAIROBI WEST     36126\n",
      "NAIROBI NORTH    35822\n",
      "NAIROBI SOUTH    34927\n",
      "COAST            15523\n",
      "MT KENYA         14450\n",
      "CENTRAL RIFT     14106\n",
      "SOUTH NYANZA     13580\n",
      "NORTH EASTERN    12895\n",
      "WEST KENYA       12604\n",
      "NORTH RIFT       11375\n",
      "Name: REGION, dtype: int64\n",
      "NAIROBI NORTH      35822\n",
      "NAIROBI WEST       34040\n",
      "NAIROBI SOUTH      24507\n",
      "KIAMBU             12838\n",
      "MOMBASA            12578\n",
      "NAKURU             10583\n",
      "MACHAKOS           10418\n",
      "KISII               8668\n",
      "UASIN GISHU         6854\n",
      "KISUMU              4667\n",
      "TRANS NZOIA         3824\n",
      "KIRINYAGA           3559\n",
      "MURANGA             3310\n",
      "MERU                3193\n",
      "KILIFI              2545\n",
      "NYERI               2359\n",
      "BUNGOMA             2315\n",
      "MIGORI              2141\n",
      "NYANDARUA           2093\n",
      "KAKAMEGA            2088\n",
      "KAJIADO             2086\n",
      "HOMABAY             1929\n",
      "EMBU                1663\n",
      "KERICHO             1425\n",
      "VIHIGA              1339\n",
      "SIAYA               1121\n",
      "BUSIA               1074\n",
      "NYAMIRA              842\n",
      "WEST POKOT           491\n",
      "LAIKIPIA             313\n",
      "KWALE                270\n",
      "ELGEYO MARAKWET      115\n",
      "NANDI                 91\n",
      "TAITA TAVETA          79\n",
      "GARISSA               53\n",
      "THARAKA NITHI         53\n",
      "TANA RIVER            51\n",
      "SAMBURU                5\n",
      "WAJIR                  4\n",
      "MAKUENI                2\n",
      "Name: COUNTY, dtype: int64\n",
      "563619          108\n",
      "89096939         57\n",
      "62743360         57\n",
      "72162268         57\n",
      "72193707         57\n",
      "               ... \n",
      "900670357069      1\n",
      "902819538013      1\n",
      "63069163          1\n",
      "60608225          1\n",
      "74978966          1\n",
      "Name: ACC, Length: 4157, dtype: int64\n",
      "A1-1 SC2     70301\n",
      "A1-1 SC1     37021\n",
      "E0-1         25499\n",
      "A0-1 DC-L    23805\n",
      "A0-1 DC-O    19508\n",
      "A1-1         13627\n",
      "A0-1          9363\n",
      "A0-2 DC-O      969\n",
      "A0-2 DC-L      438\n",
      "A1-2 SC2       429\n",
      "A0-2           260\n",
      "A1-2            71\n",
      "A1-2 SC1        58\n",
      "P0-1 DC-O       35\n",
      "1               12\n",
      "A1-5             7\n",
      "A1-5 SC          3\n",
      "P1-1 SC          1\n",
      "P0-1 DC-L        1\n",
      "Name: COD_TARIFF, dtype: int64\n"
     ]
    }
   ],
   "source": [
    "print(df['REGION'].value_counts())\n",
    "print(df['COUNTY'].value_counts())\n",
    "print(df['ACC'].value_counts())\n",
    "print(df['COD_TARIFF'].value_counts())\n"
   ]
  },
  {
   "cell_type": "markdown",
   "id": "7fe0be95",
   "metadata": {},
   "source": [
    "# Data Vizualisation"
   ]
  },
  {
   "cell_type": "code",
   "execution_count": 17,
   "id": "1c87f876",
   "metadata": {
    "scrolled": false
   },
   "outputs": [
    {
     "name": "stderr",
     "output_type": "stream",
     "text": [
      "/tmp/ipykernel_5832/4187766474.py:3: FutureWarning: The default value of numeric_only in DataFrame.corr is deprecated. In a future version, it will default to False. Select only valid columns or specify the value of numeric_only to silence this warning.\n",
      "  corrMatrix = df.corr()\n"
     ]
    },
    {
     "data": {
      "image/png": "[encoded data removed]",
      "text/plain": [
       "<Figure size 640x480 with 2 Axes>"
      ]
     },
     "metadata": {},
     "output_type": "display_data"
    }
   ],
   "source": [
    "#To understand the relationship between different attributes in the dataset, we will plot a correlation matrix using the following code:\n",
    "\n",
    "corrMatrix = df.corr() \n",
    "sns.heatmap(corrMatrix, annot=True) \n",
    "plt.show() "
   ]
  },
  {
   "cell_type": "code",
   "execution_count": 18,
   "id": "3129ac74",
   "metadata": {},
   "outputs": [],
   "source": [
    "acc = df['ACC'].value_counts()\n",
    "tariff_type = df['COD_TARIFF'].value_counts()\n",
    "units= df['UNITS'].sum()\n",
    "county = df['COUNTY'].value_counts()"
   ]
  },
  {
   "cell_type": "code",
   "execution_count": 19,
   "id": "08cf6031",
   "metadata": {},
   "outputs": [
    {
     "data": {
      "image/png": "[encoded data removed]",
      "text/plain": [
       "<Figure size 2000x600 with 1 Axes>"
      ]
     },
     "metadata": {},
     "output_type": "display_data"
    }
   ],
   "source": [
    "#Pie plot for all the tariffs used \n",
    "\n",
    "\n",
    "tariff_counts = df['COD_TARIFF'].value_counts(7)\n",
    "tariff_counts\n",
    "\n",
    "plt.figure(figsize=(20,6))\n",
    "plt.title('Tariff Distribution')\n",
    "plt.pie(tariff_counts, labels=tariff_counts.index, autopct='%1.1f%%' ,startangle=200, shadow=True);\n",
    "\n"
   ]
  },
  {
   "cell_type": "code",
   "execution_count": 20,
   "id": "0c3efd2e",
   "metadata": {},
   "outputs": [
    {
     "data": {
      "text/plain": [
       "<AxesSubplot: >"
      ]
     },
     "execution_count": 20,
     "metadata": {},
     "output_type": "execute_result"
    },
    {
     "data": {
      "image/png": "[encoded data removed]",
      "text/plain": [
       "<Figure size 640x480 with 1 Axes>"
      ]
     },
     "metadata": {},
     "output_type": "display_data"
    }
   ],
   "source": [
    "df['COD_TARIFF'].value_counts() \\\n",
    "   .head(10) \\\n",
    "   .plot(kind = 'bar')"
   ]
  },
  {
   "cell_type": "code",
   "execution_count": 21,
   "id": "6aef0454",
   "metadata": {},
   "outputs": [
    {
     "data": {
      "image/png": "[encoded data removed]",
      "text/plain": [
       "<Figure size 1200x1000 with 1 Axes>"
      ]
     },
     "metadata": {},
     "output_type": "display_data"
    }
   ],
   "source": [
    "#Counties that consume the most energy by the total units consumed.\n",
    "\n",
    "top_10_counties= df.COUNTY.value_counts().sort_values(ascending=False).head(7)\n",
    "top_10_counties\n",
    "\n",
    "#Plot for the top 10 counties\n",
    "\n",
    "plt.figure(figsize=(12,10))\n",
    "#plt.xticks(rotation=20)\n",
    "plt.title('Overall Consumption by County')\n",
    "sns.barplot(x=top_10_counties.index, y=top_10_counties, palette='Set2');"
   ]
  },
  {
   "cell_type": "markdown",
   "id": "46c4154d",
   "metadata": {},
   "source": [
    "# CHANGING THE CATEGORICAL  DATA "
   ]
  },
  {
   "cell_type": "code",
   "execution_count": 22,
   "id": "3b30976f",
   "metadata": {},
   "outputs": [],
   "source": [
    "import numpy as np\n",
    "import pandas as pd\n",
    "from sklearn.linear_model import LinearRegression\n",
    "from sklearn.model_selection import train_test_split\n",
    "from sklearn.metrics import r2_score\n",
    "from sklearn.preprocessing import LabelEncoder"
   ]
  },
  {
   "cell_type": "markdown",
   "id": "d8774d63",
   "metadata": {},
   "source": [
    "LabelEncoder presents a problem where an ML algorithm will assume that two nearby values are more similar than two distant values. To prevent this, a method of encoding kmown as one hot encoding is used where only one category presents a one and 0 otherwise. It converts integer categorical values into on-hot vectors. fit_transform() expects a 2D array but house_cat_encoded is a 1D array and therefore needs to be reshaped."
   ]
  },
  {
   "cell_type": "code",
   "execution_count": 23,
   "id": "18d40afa",
   "metadata": {},
   "outputs": [],
   "source": [
    "#encoding Columns \n",
    "\n",
    "df.replace({'COD_TARIFF':{\n",
    "\"A1-1 SC2\"     :0,\n",
    "\"A1-1 SC1\"     :1,\n",
    "\"E0-1\"         :2,\n",
    "\"A0-1 DC-L\"    :3,\n",
    "\"A0-1 DC-O\"    :4,\n",
    "\"A1-1\"         :5,\n",
    "\"A0-1\"         :6,\n",
    "\"A0-2 DC-O\"    :7,\n",
    "\"A0-2 DC-L\"    :8,\n",
    "\"A1-2 SC2\"     :9,\n",
    "\"A0-2\"         :10,\n",
    "\"A1-2\"         :11,\n",
    "\"A1-2 SC1\"     :12,\n",
    "\"P0-1 DC-O\"    :13,\n",
    "\"A1-5\"         :14,\n",
    "\"A1-5 SC\"      :15,\n",
    "\"P1-1 SC\"      :16,\n",
    "\"P0-1 DC-L\"    :17}},inplace=True) "
   ]
  },
  {
   "cell_type": "code",
   "execution_count": 24,
   "id": "0698cb67",
   "metadata": {},
   "outputs": [
    {
     "ename": "IndexError",
     "evalue": "index 3 is out of bounds for axis 1 with size 1",
     "output_type": "error",
     "traceback": [
      "\u001b[0;31m---------------------------------------------------------------------------\u001b[0m",
      "\u001b[0;31mIndexError\u001b[0m                                Traceback (most recent call last)",
      "Cell \u001b[0;32mIn[24], line 7\u001b[0m\n\u001b[1;32m      5\u001b[0m le \u001b[38;5;241m=\u001b[39m LabelEncoder()\n\u001b[1;32m      6\u001b[0m X\u001b[38;5;241m=\u001b[39m df\u001b[38;5;241m.\u001b[39miloc[:, \u001b[38;5;241m5\u001b[39m:\u001b[38;5;241m6\u001b[39m]\u001b[38;5;241m.\u001b[39mvalues  \n\u001b[0;32m----> 7\u001b[0m X[:, \u001b[38;5;241m3\u001b[39m] \u001b[38;5;241m=\u001b[39m le\u001b[38;5;241m.\u001b[39mfit_transform(\u001b[43mX\u001b[49m\u001b[43m[\u001b[49m\u001b[43m:\u001b[49m\u001b[43m,\u001b[49m\u001b[43m \u001b[49m\u001b[38;5;241;43m3\u001b[39;49m\u001b[43m]\u001b[49m)\n\u001b[1;32m      9\u001b[0m \u001b[38;5;28;01mfrom\u001b[39;00m \u001b[38;5;21;01msklearn\u001b[39;00m\u001b[38;5;21;01m.\u001b[39;00m\u001b[38;5;21;01mcompose\u001b[39;00m \u001b[38;5;28;01mimport\u001b[39;00m ColumnTransformer\n\u001b[1;32m     10\u001b[0m \u001b[38;5;28;01mfrom\u001b[39;00m \u001b[38;5;21;01msklearn\u001b[39;00m\u001b[38;5;21;01m.\u001b[39;00m\u001b[38;5;21;01mpreprocessing\u001b[39;00m \u001b[38;5;28;01mimport\u001b[39;00m StandardScaler, LabelEncoder, OneHotEncoder\n",
      "\u001b[0;31mIndexError\u001b[0m: index 3 is out of bounds for axis 1 with size 1"
     ]
    }
   ],
   "source": [
    "#encoding categorical data \n",
    "\n",
    "from sklearn.preprocessing import LabelEncoder, OneHotEncoder\n",
    "from sklearn.compose import ColumnTransformer\n",
    "le = LabelEncoder()\n",
    "X= df.iloc[:, 5:6].values  \n",
    "X[:, 3] = le.fit_transform(X[:, 3])\n",
    "\n",
    "from sklearn.compose import ColumnTransformer\n",
    "from sklearn.preprocessing import StandardScaler, LabelEncoder, OneHotEncoder\n",
    "ohe=ColumnTransformer([('OHE',OneHotEncoder(categories='auto'),['REGION'])],remainder='passthrough')\n",
    "x=ohe.fit_transform(df.drop('COD_TARIFF',axis='columns'))\n",
    "print(x)\n"
   ]
  },
  {
   "cell_type": "code",
   "execution_count": 25,
   "id": "3d77658a",
   "metadata": {},
   "outputs": [],
   "source": [
    "#encoding Columns \n",
    "\n",
    "df.replace({'COD_TARIFF':{\n",
    "\"A1-1 SC2\"     :0,\n",
    "\"A1-1 SC1\"     :1,\n",
    "\"E0-1\"         :2,\n",
    "\"A0-1 DC-L\"    :3,\n",
    "\"A0-1 DC-O\"    :4,\n",
    "\"A1-1\"         :5,\n",
    "\"A0-1\"         :6,\n",
    "\"A0-2 DC-O\"    :7,\n",
    "\"A0-2 DC-L\"    :8,\n",
    "\"A1-2 SC2\"     :9,\n",
    "\"A0-2\"         :10,\n",
    "\"A1-2\"         :11,\n",
    "\"A1-2 SC1\"     :12,\n",
    "\"P0-1 DC-O\"    :13,\n",
    "\"A1-5\"         :14,\n",
    "\"A1-5 SC\"      :15,\n",
    "\"P1-1 SC\"      :16,\n",
    "\"P0-1 DC-L\"    :17}},inplace=True) \n"
   ]
  },
  {
   "cell_type": "code",
   "execution_count": 26,
   "id": "157241b0",
   "metadata": {},
   "outputs": [],
   "source": [
    "from sklearn.preprocessing import OneHotEncoder\n",
    "from sklearn.compose import ColumnTransformer\n",
    "from sklearn.preprocessing import StandardScaler, LabelEncoder, OneHotEncoder\n",
    "\n",
    "ohe=ColumnTransformer([('OHE',OneHotEncoder(categories='auto'),['REGION'])],remainder='passthrough')\n",
    "x=ohe.fit_transform(df[['REGION']])\n"
   ]
  },
  {
   "cell_type": "code",
   "execution_count": 27,
   "id": "0b16ca32",
   "metadata": {},
   "outputs": [
    {
     "data": {
      "text/plain": [
       "array([[202102],\n",
       "       ['COAST'],\n",
       "       ['MOMBASA'],\n",
       "       ...,\n",
       "       [2022],\n",
       "       [9],\n",
       "       [14]], dtype=object)"
      ]
     },
     "execution_count": 27,
     "metadata": {},
     "output_type": "execute_result"
    }
   ],
   "source": [
    "df_encoded = df.values.reshape(-1,1) \n",
    "df_encoded"
   ]
  },
  {
   "cell_type": "code",
   "execution_count": 57,
   "id": "7af68fcc",
   "metadata": {},
   "outputs": [
    {
     "data": {
      "text/plain": [
       "array([1, 5, 5, ..., 1, 1, 1])"
      ]
     },
     "execution_count": 57,
     "metadata": {},
     "output_type": "execute_result"
    }
   ],
   "source": [
    "from sklearn.preprocessing import LabelEncoder\n",
    "encoder = LabelEncoder()\n",
    "regions = df[\"REGION\"]\n",
    "regions_encoded = encoder.fit_transform(housing_cat)\n",
    "regions_encoded\n",
    "\n"
   ]
  },
  {
   "cell_type": "code",
   "execution_count": 58,
   "id": "a3f94686",
   "metadata": {},
   "outputs": [
    {
     "name": "stdout",
     "output_type": "stream",
     "text": [
      "['CENTRAL RIFT' 'COAST' 'MT KENYA' 'NAIROBI NORTH' 'NAIROBI SOUTH'\n",
      " 'NAIROBI WEST' 'NORTH EASTERN' 'NORTH RIFT' 'SOUTH NYANZA' 'WEST KENYA']\n"
     ]
    }
   ],
   "source": [
    "print(encoder.classes_)\n"
   ]
  },
  {
   "cell_type": "markdown",
   "id": "b196bed4",
   "metadata": {},
   "source": [
    "LabelEncoder presents a problem where an ML algorithm will assume that two nearby values are more similar than two distant values. To prevent this, a method of encoding kmown as one hot encoding is used where only one category presents a one and 0 otherwise. It converts integer categorical values into on-hot vectors. fit_transform() expects a 2D array but house_cat_encoded is a 1D array and therefore needs to be reshaped."
   ]
  },
  {
   "cell_type": "code",
   "execution_count": 59,
   "id": "6a5802e4",
   "metadata": {},
   "outputs": [
    {
     "data": {
      "text/plain": [
       "array([[202102],\n",
       "       ['COAST'],\n",
       "       ['MOMBASA'],\n",
       "       ...,\n",
       "       [2022],\n",
       "       [9],\n",
       "       [14]], dtype=object)"
      ]
     },
     "execution_count": 59,
     "metadata": {},
     "output_type": "execute_result"
    }
   ],
   "source": [
    "regions_encoded = df.values.reshape(-1,1) \n",
    "regions_encoded"
   ]
  },
  {
   "cell_type": "code",
   "execution_count": 29,
   "id": "35fe726a",
   "metadata": {
    "scrolled": true
   },
   "outputs": [
    {
     "data": {
      "text/plain": [
       "<201408x9 sparse matrix of type '<class 'numpy.float64'>'\n",
       "\twith 187302 stored elements in Compressed Sparse Row format>"
      ]
     },
     "execution_count": 29,
     "metadata": {},
     "output_type": "execute_result"
    }
   ],
   "source": [
    "#dropping the first column to avoid dummy variable trap\n",
    "\n",
    "x=x[:,1:]\n",
    "x\n"
   ]
  },
  {
   "cell_type": "markdown",
   "id": "64109cb8",
   "metadata": {},
   "source": [
    "# SPLITTING THE DATASET"
   ]
  },
  {
   "cell_type": "code",
   "execution_count": 67,
   "id": "9f71619f",
   "metadata": {},
   "outputs": [],
   "source": [
    "from sklearn.base import BaseEstimator, TransformerMixin\n",
    "\n",
    "class DataFrameSelector(BaseEstimator, TransformerMixin):\n",
    "    def __init__(self, attribute_names):\n",
    "        self.attribute_names = attribute_names\n",
    "    def fit(self, X, y=None):\n",
    "        return self\n",
    "    def transform(self, X, y=None):\n",
    "        return X[self.attribute_names].values"
   ]
  },
  {
   "cell_type": "code",
   "execution_count": 68,
   "id": "965630cc",
   "metadata": {},
   "outputs": [
    {
     "data": {
      "text/plain": [
       "PERIOD               0\n",
       "REGION               0\n",
       "COUNTY               0\n",
       "ACC                  0\n",
       "MTR                  0\n",
       "COD_TARIFF           0\n",
       "INSTALLATION_DATE    0\n",
       "UNITS                0\n",
       "year                 0\n",
       "month                0\n",
       "day                  0\n",
       "dtype: int64"
      ]
     },
     "execution_count": 68,
     "metadata": {},
     "output_type": "execute_result"
    }
   ],
   "source": [
    "df.isnull().sum()"
   ]
  },
  {
   "cell_type": "code",
   "execution_count": 31,
   "id": "5b244371",
   "metadata": {},
   "outputs": [
    {
     "data": {
      "text/plain": [
       "array([[3],\n",
       "       [6],\n",
       "       [6],\n",
       "       ...,\n",
       "       [1],\n",
       "       [1],\n",
       "       [1]])"
      ]
     },
     "execution_count": 31,
     "metadata": {},
     "output_type": "execute_result"
    }
   ],
   "source": [
    "#Identifying the independent variable\n",
    "\n",
    "X= df.iloc[:, 5:6].values  \n",
    "X"
   ]
  },
  {
   "cell_type": "code",
   "execution_count": 32,
   "id": "88965ca0",
   "metadata": {},
   "outputs": [
    {
     "data": {
      "text/plain": [
       "array([[  0.],\n",
       "       [ 54.],\n",
       "       [100.],\n",
       "       ...,\n",
       "       [  0.],\n",
       "       [  0.],\n",
       "       [  0.]])"
      ]
     },
     "execution_count": 32,
     "metadata": {},
     "output_type": "execute_result"
    }
   ],
   "source": [
    "#Identifying the dependent variable\n",
    "\n",
    "Y = df.iloc[:, 7:8].values \n",
    "Y"
   ]
  },
  {
   "cell_type": "code",
   "execution_count": 33,
   "id": "13a5aa5a",
   "metadata": {},
   "outputs": [],
   "source": [
    "X = df.iloc[:, 5:6].values \n",
    "Y = df.iloc[:, 7:8].values \n"
   ]
  },
  {
   "cell_type": "code",
   "execution_count": 34,
   "id": "83d182b1",
   "metadata": {
    "scrolled": true
   },
   "outputs": [],
   "source": [
    "#Separating dataset\n",
    "\n",
    "\n",
    "from sklearn.model_selection import train_test_split\n",
    "X_train, X_test, Y_train, Y_test = train_test_split(X, Y, test_size = 0.2, random_state=42) "
   ]
  },
  {
   "cell_type": "code",
   "execution_count": 35,
   "id": "7207425e",
   "metadata": {},
   "outputs": [
    {
     "data": {
      "text/plain": [
       "((201408, 1), (201408, 1))"
      ]
     },
     "execution_count": 35,
     "metadata": {},
     "output_type": "execute_result"
    }
   ],
   "source": [
    "X.shape, Y.shape"
   ]
  },
  {
   "cell_type": "code",
   "execution_count": 36,
   "id": "af2976bd",
   "metadata": {},
   "outputs": [
    {
     "data": {
      "text/plain": [
       "((161126, 1), (161126, 1))"
      ]
     },
     "execution_count": 36,
     "metadata": {},
     "output_type": "execute_result"
    }
   ],
   "source": [
    "X_train.shape, Y_train.shape"
   ]
  },
  {
   "cell_type": "code",
   "execution_count": 37,
   "id": "b737b0cf",
   "metadata": {},
   "outputs": [
    {
     "data": {
      "text/plain": [
       "((40282, 1), (40282, 1))"
      ]
     },
     "execution_count": 37,
     "metadata": {},
     "output_type": "execute_result"
    }
   ],
   "source": [
    "X_test.shape, Y_test.shape"
   ]
  },
  {
   "cell_type": "code",
   "execution_count": 38,
   "id": "533dcc1f",
   "metadata": {},
   "outputs": [
    {
     "data": {
      "text/plain": [
       "array([-0.95670858, -0.44978756,  1.57789652, -0.44978756, -0.95670858,\n",
       "        0.56405448, -0.44978756, -0.95670858, -0.95670858,  1.57789652,\n",
       "       -0.95670858,  1.0709755 , -0.44978756,  0.05713346,  0.56405448,\n",
       "        2.59173856,  1.57789652, -0.95670858, -0.44978756,  0.56405448,\n",
       "       -0.95670858,  0.05713346,  1.0709755 , -0.95670858,  0.05713346,\n",
       "        0.56405448,  0.56405448, -0.95670858, -0.95670858,  0.56405448])"
      ]
     },
     "execution_count": 38,
     "metadata": {},
     "output_type": "execute_result"
    }
   ],
   "source": [
    "#check the requirements of the model we are building to see if the data needs to be scaled.\n",
    "\n",
    "from sklearn.preprocessing import StandardScaler\n",
    "standardized = StandardScaler().fit_transform(X_train)\n",
    "standardized[~np.isnan(standardized)][:30]"
   ]
  },
  {
   "cell_type": "code",
   "execution_count": 39,
   "id": "9b05b110",
   "metadata": {},
   "outputs": [
    {
     "data": {
      "text/plain": [
       "array([[0.        ],\n",
       "       [0.05882353],\n",
       "       [0.29411765],\n",
       "       ...,\n",
       "       [0.11764706],\n",
       "       [0.        ],\n",
       "       [0.11764706]])"
      ]
     },
     "execution_count": 39,
     "metadata": {},
     "output_type": "execute_result"
    }
   ],
   "source": [
    "# preprocessing module for min-max scaling (to normalize data to be in [0, 1]), among others.\n",
    "\n",
    "from sklearn.preprocessing import MinMaxScaler\n",
    "MinMaxScaler().fit_transform(X_train)\n"
   ]
  },
  {
   "cell_type": "code",
   "execution_count": 40,
   "id": "be0b154c",
   "metadata": {
    "scrolled": true
   },
   "outputs": [
    {
     "data": {
      "text/html": [
       "<style>#sk-container-id-1 {color: black;background-color: white;}#sk-container-id-1 pre{padding: 0;}#sk-container-id-1 div.sk-toggleable {background-color: white;}#sk-container-id-1 label.sk-toggleable__label {cursor: pointer;display: block;width: 100%;margin-bottom: 0;padding: 0.3em;box-sizing: border-box;text-align: center;}#sk-container-id-1 label.sk-toggleable__label-arrow:before {content: \"▸\";float: left;margin-right: 0.25em;color: #696969;}#sk-container-id-1 label.sk-toggleable__label-arrow:hover:before {color: black;}#sk-container-id-1 div.sk-estimator:hover label.sk-toggleable__label-arrow:before {color: black;}#sk-container-id-1 div.sk-toggleable__content {max-height: 0;max-width: 0;overflow: hidden;text-align: left;background-color: #f0f8ff;}#sk-container-id-1 div.sk-toggleable__content pre {margin: 0.2em;color: black;border-radius: 0.25em;background-color: #f0f8ff;}#sk-container-id-1 input.sk-toggleable__control:checked~div.sk-toggleable__content {max-height: 200px;max-width: 100%;overflow: auto;}#sk-container-id-1 input.sk-toggleable__control:checked~label.sk-toggleable__label-arrow:before {content: \"▾\";}#sk-container-id-1 div.sk-estimator input.sk-toggleable__control:checked~label.sk-toggleable__label {background-color: #d4ebff;}#sk-container-id-1 div.sk-label input.sk-toggleable__control:checked~label.sk-toggleable__label {background-color: #d4ebff;}#sk-container-id-1 input.sk-hidden--visually {border: 0;clip: rect(1px 1px 1px 1px);clip: rect(1px, 1px, 1px, 1px);height: 1px;margin: -1px;overflow: hidden;padding: 0;position: absolute;width: 1px;}#sk-container-id-1 div.sk-estimator {font-family: monospace;background-color: #f0f8ff;border: 1px dotted black;border-radius: 0.25em;box-sizing: border-box;margin-bottom: 0.5em;}#sk-container-id-1 div.sk-estimator:hover {background-color: #d4ebff;}#sk-container-id-1 div.sk-parallel-item::after {content: \"\";width: 100%;border-bottom: 1px solid gray;flex-grow: 1;}#sk-container-id-1 div.sk-label:hover label.sk-toggleable__label {background-color: #d4ebff;}#sk-container-id-1 div.sk-serial::before {content: \"\";position: absolute;border-left: 1px solid gray;box-sizing: border-box;top: 0;bottom: 0;left: 50%;z-index: 0;}#sk-container-id-1 div.sk-serial {display: flex;flex-direction: column;align-items: center;background-color: white;padding-right: 0.2em;padding-left: 0.2em;position: relative;}#sk-container-id-1 div.sk-item {position: relative;z-index: 1;}#sk-container-id-1 div.sk-parallel {display: flex;align-items: stretch;justify-content: center;background-color: white;position: relative;}#sk-container-id-1 div.sk-item::before, #sk-container-id-1 div.sk-parallel-item::before {content: \"\";position: absolute;border-left: 1px solid gray;box-sizing: border-box;top: 0;bottom: 0;left: 50%;z-index: -1;}#sk-container-id-1 div.sk-parallel-item {display: flex;flex-direction: column;z-index: 1;position: relative;background-color: white;}#sk-container-id-1 div.sk-parallel-item:first-child::after {align-self: flex-end;width: 50%;}#sk-container-id-1 div.sk-parallel-item:last-child::after {align-self: flex-start;width: 50%;}#sk-container-id-1 div.sk-parallel-item:only-child::after {width: 0;}#sk-container-id-1 div.sk-dashed-wrapped {border: 1px dashed gray;margin: 0 0.4em 0.5em 0.4em;box-sizing: border-box;padding-bottom: 0.4em;background-color: white;}#sk-container-id-1 div.sk-label label {font-family: monospace;font-weight: bold;display: inline-block;line-height: 1.2em;}#sk-container-id-1 div.sk-label-container {text-align: center;}#sk-container-id-1 div.sk-container {/* jupyter's `normalize.less` sets `[hidden] { display: none; }` but bootstrap.min.css set `[hidden] { display: none !important; }` so we also need the `!important` here to be able to override the default hidden behavior on the sphinx rendered scikit-learn.org. See: https://github.com/scikit-learn/scikit-learn/issues/21755 */display: inline-block !important;position: relative;}#sk-container-id-1 div.sk-text-repr-fallback {display: none;}</style><div id=\"sk-container-id-1\" class=\"sk-top-container\"><div class=\"sk-text-repr-fallback\"><pre>LinearRegression()</pre><b>In a Jupyter environment, please rerun this cell to show the HTML representation or trust the notebook. <br />On GitHub, the HTML representation is unable to render, please try loading this page with nbviewer.org.</b></div><div class=\"sk-container\" hidden><div class=\"sk-item\"><div class=\"sk-estimator sk-toggleable\"><input class=\"sk-toggleable__control sk-hidden--visually\" id=\"sk-estimator-id-1\" type=\"checkbox\" checked><label for=\"sk-estimator-id-1\" class=\"sk-toggleable__label sk-toggleable__label-arrow\">LinearRegression</label><div class=\"sk-toggleable__content\"><pre>LinearRegression()</pre></div></div></div></div></div>"
      ],
      "text/plain": [
       "LinearRegression()"
      ]
     },
     "execution_count": 40,
     "metadata": {},
     "output_type": "execute_result"
    }
   ],
   "source": [
    "#Fitting multiple linear regression to training set \n",
    "\n",
    "from sklearn.linear_model import LinearRegression\n",
    "model_fit = LinearRegression()\n",
    "model_fit.fit(X_train, Y_train)"
   ]
  },
  {
   "cell_type": "code",
   "execution_count": 41,
   "id": "864de5b3",
   "metadata": {},
   "outputs": [
    {
     "data": {
      "text/html": [
       "<style>#sk-container-id-2 {color: black;background-color: white;}#sk-container-id-2 pre{padding: 0;}#sk-container-id-2 div.sk-toggleable {background-color: white;}#sk-container-id-2 label.sk-toggleable__label {cursor: pointer;display: block;width: 100%;margin-bottom: 0;padding: 0.3em;box-sizing: border-box;text-align: center;}#sk-container-id-2 label.sk-toggleable__label-arrow:before {content: \"▸\";float: left;margin-right: 0.25em;color: #696969;}#sk-container-id-2 label.sk-toggleable__label-arrow:hover:before {color: black;}#sk-container-id-2 div.sk-estimator:hover label.sk-toggleable__label-arrow:before {color: black;}#sk-container-id-2 div.sk-toggleable__content {max-height: 0;max-width: 0;overflow: hidden;text-align: left;background-color: #f0f8ff;}#sk-container-id-2 div.sk-toggleable__content pre {margin: 0.2em;color: black;border-radius: 0.25em;background-color: #f0f8ff;}#sk-container-id-2 input.sk-toggleable__control:checked~div.sk-toggleable__content {max-height: 200px;max-width: 100%;overflow: auto;}#sk-container-id-2 input.sk-toggleable__control:checked~label.sk-toggleable__label-arrow:before {content: \"▾\";}#sk-container-id-2 div.sk-estimator input.sk-toggleable__control:checked~label.sk-toggleable__label {background-color: #d4ebff;}#sk-container-id-2 div.sk-label input.sk-toggleable__control:checked~label.sk-toggleable__label {background-color: #d4ebff;}#sk-container-id-2 input.sk-hidden--visually {border: 0;clip: rect(1px 1px 1px 1px);clip: rect(1px, 1px, 1px, 1px);height: 1px;margin: -1px;overflow: hidden;padding: 0;position: absolute;width: 1px;}#sk-container-id-2 div.sk-estimator {font-family: monospace;background-color: #f0f8ff;border: 1px dotted black;border-radius: 0.25em;box-sizing: border-box;margin-bottom: 0.5em;}#sk-container-id-2 div.sk-estimator:hover {background-color: #d4ebff;}#sk-container-id-2 div.sk-parallel-item::after {content: \"\";width: 100%;border-bottom: 1px solid gray;flex-grow: 1;}#sk-container-id-2 div.sk-label:hover label.sk-toggleable__label {background-color: #d4ebff;}#sk-container-id-2 div.sk-serial::before {content: \"\";position: absolute;border-left: 1px solid gray;box-sizing: border-box;top: 0;bottom: 0;left: 50%;z-index: 0;}#sk-container-id-2 div.sk-serial {display: flex;flex-direction: column;align-items: center;background-color: white;padding-right: 0.2em;padding-left: 0.2em;position: relative;}#sk-container-id-2 div.sk-item {position: relative;z-index: 1;}#sk-container-id-2 div.sk-parallel {display: flex;align-items: stretch;justify-content: center;background-color: white;position: relative;}#sk-container-id-2 div.sk-item::before, #sk-container-id-2 div.sk-parallel-item::before {content: \"\";position: absolute;border-left: 1px solid gray;box-sizing: border-box;top: 0;bottom: 0;left: 50%;z-index: -1;}#sk-container-id-2 div.sk-parallel-item {display: flex;flex-direction: column;z-index: 1;position: relative;background-color: white;}#sk-container-id-2 div.sk-parallel-item:first-child::after {align-self: flex-end;width: 50%;}#sk-container-id-2 div.sk-parallel-item:last-child::after {align-self: flex-start;width: 50%;}#sk-container-id-2 div.sk-parallel-item:only-child::after {width: 0;}#sk-container-id-2 div.sk-dashed-wrapped {border: 1px dashed gray;margin: 0 0.4em 0.5em 0.4em;box-sizing: border-box;padding-bottom: 0.4em;background-color: white;}#sk-container-id-2 div.sk-label label {font-family: monospace;font-weight: bold;display: inline-block;line-height: 1.2em;}#sk-container-id-2 div.sk-label-container {text-align: center;}#sk-container-id-2 div.sk-container {/* jupyter's `normalize.less` sets `[hidden] { display: none; }` but bootstrap.min.css set `[hidden] { display: none !important; }` so we also need the `!important` here to be able to override the default hidden behavior on the sphinx rendered scikit-learn.org. See: https://github.com/scikit-learn/scikit-learn/issues/21755 */display: inline-block !important;position: relative;}#sk-container-id-2 div.sk-text-repr-fallback {display: none;}</style><div id=\"sk-container-id-2\" class=\"sk-top-container\"><div class=\"sk-text-repr-fallback\"><pre>LinearRegression()</pre><b>In a Jupyter environment, please rerun this cell to show the HTML representation or trust the notebook. <br />On GitHub, the HTML representation is unable to render, please try loading this page with nbviewer.org.</b></div><div class=\"sk-container\" hidden><div class=\"sk-item\"><div class=\"sk-estimator sk-toggleable\"><input class=\"sk-toggleable__control sk-hidden--visually\" id=\"sk-estimator-id-2\" type=\"checkbox\" checked><label for=\"sk-estimator-id-2\" class=\"sk-toggleable__label sk-toggleable__label-arrow\">LinearRegression</label><div class=\"sk-toggleable__content\"><pre>LinearRegression()</pre></div></div></div></div></div>"
      ],
      "text/plain": [
       "LinearRegression()"
      ]
     },
     "execution_count": 41,
     "metadata": {},
     "output_type": "execute_result"
    }
   ],
   "source": [
    "# loading the linear regression model \n",
    "lin_reg_model = LinearRegression() \n",
    "\n",
    "# Now we can fit the model to our dataset \n",
    "lin_reg_model.fit(X_train,Y_train) "
   ]
  },
  {
   "cell_type": "code",
   "execution_count": 42,
   "id": "6e5537c4",
   "metadata": {},
   "outputs": [
    {
     "name": "stdout",
     "output_type": "stream",
     "text": [
      "Intercepts:  [994.66657044]\n"
     ]
    }
   ],
   "source": [
    "#inspect the intercept \n",
    "print('Intercepts: ', lin_reg_model.intercept_)\n"
   ]
  },
  {
   "cell_type": "code",
   "execution_count": 43,
   "id": "deb8583c",
   "metadata": {},
   "outputs": [
    {
     "name": "stdout",
     "output_type": "stream",
     "text": [
      "Coefficients:  [[-131.46498043]]\n"
     ]
    }
   ],
   "source": [
    "#inspect the coefficient\n",
    "print('Coefficients: ', lin_reg_model.coef_)"
   ]
  },
  {
   "cell_type": "code",
   "execution_count": 44,
   "id": "ef2ac5c4",
   "metadata": {},
   "outputs": [
    {
     "name": "stdout",
     "output_type": "stream",
     "text": [
      "Variance score: 0.005963605439833652\n"
     ]
    }
   ],
   "source": [
    "# variance score: 1 means perfect prediction\n",
    "print('Variance score: {}'.format(lin_reg_model.score(X_test, Y_test)))\n",
    "  \n"
   ]
  },
  {
   "cell_type": "code",
   "execution_count": 45,
   "id": "0a02fed5",
   "metadata": {
    "scrolled": true
   },
   "outputs": [
    {
     "data": {
      "image/png": "[encoded data removed]",
      "text/plain": [
       "<Figure size 640x480 with 1 Axes>"
      ]
     },
     "metadata": {},
     "output_type": "display_data"
    }
   ],
   "source": [
    "# plot for residual error\n",
    "  \n",
    "## setting plot style\n",
    "plt.style.use('fivethirtyeight')\n",
    "  \n",
    "## plotting residual errors in training data\n",
    "plt.scatter(lin_reg_model.predict(X_train), lin_reg_model.predict(X_train) - Y_train,\n",
    "            color = \"red\", s = 10, label = 'Train data')\n",
    "  \n",
    "## plotting residual errors in test data\n",
    "plt.scatter(lin_reg_model.predict(X_test), lin_reg_model.predict(X_test) - Y_test,\n",
    "            color = \"blue\", s = 10, label = 'Test data')\n",
    "  \n",
    "## plotting line for zero residual error\n",
    "plt.hlines(y = 0, xmin = 0, xmax = 50, linewidth = 2)\n",
    "  \n",
    "## plotting legend\n",
    "plt.legend(loc = 'upper right')\n",
    "  \n",
    "## plot title\n",
    "plt.title(\"Residual errors\")\n",
    "  \n",
    "## method call for showing the plot\n",
    "plt.show()"
   ]
  },
  {
   "cell_type": "code",
   "execution_count": null,
   "id": "5fa4ea71",
   "metadata": {},
   "outputs": [],
   "source": []
  }
 ],
 "metadata": {
  "kernelspec": {
   "display_name": "Python 3 (ipykernel)",
   "language": "python",
   "name": "python3"
  },
  "language_info": {
   "codemirror_mode": {
    "name": "ipython",
    "version": 3
   },
   "file_extension": ".py",
   "mimetype": "text/x-python",
   "name": "python",
   "nbconvert_exporter": "python",
   "pygments_lexer": "ipython3",
   "version": "3.10.6"
  }
 },
 "nbformat": 4,
 "nbformat_minor": 5
}
